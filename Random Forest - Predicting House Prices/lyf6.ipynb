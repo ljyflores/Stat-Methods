{
 "cells": [
  {
   "cell_type": "markdown",
   "metadata": {},
   "source": [
    "# Assignment 3\n",
    "_Due: Midnight on Tuesday October 8, 2019_\n",
    "\n",
    "### NetID: lyf6\n",
    "\n",
    "In this assignment you will gain some experience with decision trees and random forests using two data sets. One is a diabetes data set, where the task is to predict the progression of the disease. The other a data set of real estate listings, where the task is to forecast the sale price of the house.\n",
    "\n",
    "#### Submission Instructions:\n",
    "\n",
    "Please fill out this _starter_ Jupyter Notebook, and submit __both__ this `.ipynb` file as well as a pdf file (via html).\n",
    "\n",
    " - In the notebook interface, choose `File -> Download as -> Notebook (ipynb)`.\n",
    " - In the notebook interface, choose `File -> Download as -> HTML`. Then open the html file, and print to pdf.\n",
    "\n",
    "Notes:\n",
    "\n",
    " - We are using the markdown cell-type for texts (and latex), and the code cell-type for the python code. Make sure you don't mix these up. You can change the type from the dropdown at the toolbar on the top.\n",
    " "
   ]
  },
  {
   "cell_type": "code",
   "execution_count": 3,
   "metadata": {},
   "outputs": [],
   "source": [
    "import numpy as np\n",
    "import matplotlib as plot\n",
    "import matplotlib.pyplot as plt"
   ]
  },
  {
   "cell_type": "markdown",
   "metadata": {},
   "source": [
    "## Question 1: Regression trees vs. random forests (20 pts)\n",
    "\n",
    "This problem is based on the `diabetes` dataset from the `sklearn` package. Please read about the dataset at [https://scikit-learn.org/stable/datasets/index.html#diabetes-dataset](https://scikit-learn.org/stable/datasets/index.html#diabetes-dataset). We will seek to predict the response, which is a quantitative measure of diabetes progression one year after baseline, using regression trees and random forests.\n",
    "\n",
    "The following cell imports the dataset as `diabetes` and names the predictor variables `diabetes_x` and the response `diabetes_y`. The names of the six predictor variables are also printed. For a more detailed description, use the `.DESCR` aspect of `diabetes`."
   ]
  },
  {
   "cell_type": "code",
   "execution_count": 440,
   "metadata": {},
   "outputs": [
    {
     "name": "stdout",
     "output_type": "stream",
     "text": [
      "['age', 'sex', 'bmi', 'bp', 's1', 's2', 's3', 's4', 's5', 's6']\n"
     ]
    }
   ],
   "source": [
    "from sklearn import datasets\n",
    "diabetes = datasets.load_diabetes()\n",
    "diabetes_x = diabetes.data\n",
    "diabetes_y = diabetes.target\n",
    "print(diabetes.feature_names)"
   ]
  },
  {
   "cell_type": "markdown",
   "metadata": {},
   "source": [
    "### Part (a): Building a Simple Regression Tree\n",
    "\n",
    "To start we will manually build a regression tree using only two of the predictor variables: `bmi` and `s5`. To keep things simple, build a tree that has exactly three nodes and four leaves. (i.e. the data is split into two parts initially and then each of those parts is again split one more time.) At each node you will need to evaluate each possible splitting point for both `bmi` and `s5` and pick the one that minimizes the RSS.\n",
    "\n",
    "When you have built the regression tree, create a scatter plot of `s5` versus `bmi`, color-coded by the response variable. In this plot, use vertical and horizontal lines to indicate the regions that your tree splits the data into. You may find the functions `plt.hlines()` and `plt.vlines()` to be useful."
   ]
  },
  {
   "cell_type": "code",
   "execution_count": 452,
   "metadata": {},
   "outputs": [
    {
     "name": "stdout",
     "output_type": "stream",
     "text": [
      "RSS bmi: 1891390.8257739856\n",
      "RSS s5: 1856875.7980013108\n",
      "Cut at s5 = -0.00421985970694603\n"
     ]
    }
   ],
   "source": [
    "bmi = diabetes_x[:,2]\n",
    "s5 = diabetes_x[:,8]\n",
    "rss_bmi = []\n",
    "rss_s5 = []\n",
    "\n",
    "# we put a wrapper on the np.mean function to avoid warnings from taking the average of an empty list\n",
    "def average(x):\n",
    "    if len(x) == 0:\n",
    "        return(0.0)\n",
    "    else:\n",
    "        return(np.mean(x))\n",
    "\n",
    "# the following starter code finds the best splits for bmi and bp at the root\n",
    "for i in range(len(bmi)):\n",
    "    left = np.where(bmi <= bmi[i])[0]\n",
    "    right = np.where(bmi > bmi[i])[0]\n",
    "    rss_bmi.append(np.sum((diabetes_y[left] - average(diabetes_y[left]))**2) + \n",
    "                   np.sum((diabetes_y[right] - average(diabetes_y[right]))**2))\n",
    "    left = np.where(s5 <= s5[i])[0]\n",
    "    right = np.where(s5 > s5[i])[0]\n",
    "    rss_s5.append(np.sum((diabetes_y[left] - average(diabetes_y[left]))**2) + \n",
    "                  np.sum((diabetes_y[right] - average(diabetes_y[right]))**2))\n",
    "    \n",
    "best_bmi_cut = np.argmin(rss_bmi)\n",
    "best_s5_cut = np.argmin(rss_s5)\n",
    "\n",
    "print(\"RSS bmi: \"+str(rss_bmi[best_bmi_cut]))\n",
    "print(\"RSS s5: \"+str(rss_s5[best_s5_cut]))\n",
    "print(\"Cut at s5 = \"+str(s5[best_s5_cut]))"
   ]
  },
  {
   "cell_type": "code",
   "execution_count": 453,
   "metadata": {},
   "outputs": [],
   "source": [
    "#s5's RSS is lower so we cut using RSS\n",
    "index1 = [index for index,value in enumerate(s5) if value > s5[best_s5_cut]]\n",
    "index2 = [index for index,value in enumerate(s5) if not value > s5[best_s5_cut]]\n",
    "\n",
    "bmi1 = bmi[index1]\n",
    "bmi2 = bmi[index2]\n",
    "\n",
    "s51 = s5[index1]\n",
    "s52 = s5[index2]\n",
    "\n",
    "diabetes_y1 = diabetes_y[index1]\n",
    "diabetes_y2 = diabetes_y[index2]"
   ]
  },
  {
   "cell_type": "code",
   "execution_count": 466,
   "metadata": {},
   "outputs": [
    {
     "name": "stdout",
     "output_type": "stream",
     "text": [
      "RSS bmi: 926994.6334610472\n",
      "RSS s5: 1036186.2521546418\n",
      "Cut at bmi = 0.0142724752679289\n"
     ]
    }
   ],
   "source": [
    "rss_bmi1 = []\n",
    "rss_s51 = []\n",
    "\n",
    "for i in range(len(bmi1)):\n",
    "    left = np.where(bmi1 <= bmi1[i])[0]\n",
    "    right = np.where(bmi1 > bmi1[i])[0]\n",
    "    rss_bmi1.append(np.sum((diabetes_y1[left] - average(diabetes_y1[left]))**2) + \n",
    "                   np.sum((diabetes_y1[right] - average(diabetes_y1[right]))**2))\n",
    "    left = np.where(s51 <= s51[i])[0]\n",
    "    right = np.where(s51 > s51[i])[0]\n",
    "    rss_s51.append(np.sum((diabetes_y1[left] - average(diabetes_y1[left]))**2) + \n",
    "                  np.sum((diabetes_y1[right] - average(diabetes_y1[right]))**2))\n",
    "    \n",
    "best_bmi_cut = np.argmin(rss_bmi1)\n",
    "best_s5_cut = np.argmin(rss_s51)\n",
    "\n",
    "print(\"RSS bmi: \"+str(rss_bmi1[best_bmi_cut]))\n",
    "print(\"RSS s5: \"+str(rss_s51[best_s5_cut]))\n",
    "print(\"Cut at bmi = \"+str(bmi1[best_bmi_cut]))"
   ]
  },
  {
   "cell_type": "code",
   "execution_count": 444,
   "metadata": {},
   "outputs": [],
   "source": [
    "#s5's RSS is lower so we cut using RSS\n",
    "index1a = [index for index,value in enumerate(bmi1) if value > bmi1[best_bmi_cut]]\n",
    "index1b = [index for index,value in enumerate(bmi1) if not value > bmi1[best_bmi_cut]]\n",
    "\n",
    "bmi1a = bmi1[index1a]\n",
    "bmi1b = bmi1[index1b]\n",
    "\n",
    "s51a = s51[index1a]\n",
    "s51b = s51[index1b]\n",
    "\n",
    "diabetes_y1a = diabetes_y1[index1a]\n",
    "diabetes_y1b = diabetes_y1[index1b]"
   ]
  },
  {
   "cell_type": "code",
   "execution_count": 445,
   "metadata": {},
   "outputs": [
    {
     "name": "stdout",
     "output_type": "stream",
     "text": [
      "RSS bmi: 558147.509269628\n",
      "RSS s5: 653689.5596330275\n",
      "Cut at bmi = 0.00564997867688165\n"
     ]
    }
   ],
   "source": [
    "rss_bmi2 = []\n",
    "rss_s52 = []\n",
    "\n",
    "for i in range(len(bmi2)):\n",
    "    left = np.where(bmi2 <= bmi2[i])[0]\n",
    "    right = np.where(bmi2 > bmi2[i])[0]\n",
    "    rss_bmi2.append(np.sum((diabetes_y2[left] - average(diabetes_y2[left]))**2) + \n",
    "                   np.sum((diabetes_y2[right] - average(diabetes_y2[right]))**2))\n",
    "    left = np.where(s52 <= s52[i])[0]\n",
    "    right = np.where(s52 > s52[i])[0]\n",
    "    rss_s52.append(np.sum((diabetes_y2[left] - average(diabetes_y2[left]))**2) + \n",
    "                  np.sum((diabetes_y2[right] - average(diabetes_y2[right]))**2))\n",
    "    \n",
    "best_bmi_cut = np.argmin(rss_bmi2)\n",
    "best_s5_cut = np.argmin(rss_s52)\n",
    "\n",
    "print(\"RSS bmi: \"+str(rss_bmi2[best_bmi_cut]))\n",
    "print(\"RSS s5: \"+str(rss_s52[best_s5_cut]))\n",
    "print(\"Cut at bmi = \"+str(bmi2[best_bmi_cut]))"
   ]
  },
  {
   "cell_type": "code",
   "execution_count": 446,
   "metadata": {},
   "outputs": [],
   "source": [
    "#s5's RSS is lower so we cut using RSS\n",
    "index2a = [index for index,value in enumerate(bmi2) if value > bmi2[best_bmi_cut]]\n",
    "index2b = [index for index,value in enumerate(bmi2) if not value > bmi2[best_bmi_cut]]\n",
    "\n",
    "bmi2a = bmi2[index2a]\n",
    "bmi2b = bmi2[index2b]\n",
    "\n",
    "s52a = s52[index2a]\n",
    "s52b = s52[index2b]\n",
    "\n",
    "diabetes_y2a = diabetes_y2[index2a]\n",
    "diabetes_y2b = diabetes_y2[index2b]"
   ]
  },
  {
   "cell_type": "code",
   "execution_count": 447,
   "metadata": {},
   "outputs": [
    {
     "data": {
      "image/png": "[encoded data removed]",
      "text/plain": [
       "<Figure size 432x288 with 1 Axes>"
      ]
     },
     "metadata": {
      "needs_background": "light"
     },
     "output_type": "display_data"
    }
   ],
   "source": [
    "cmap = plot.cm.get_cmap('viridis')\n",
    "normalize = plot.colors.Normalize(vmin=min(diabetes_y), vmax=max(diabetes_y))\n",
    "colors = [cmap(normalize(value)) for value in diabetes_y]\n",
    "\n",
    "plt.scatter(bmi, s5, c=colors)\n",
    "plt.title('s5 vs. bmi')\n",
    "plt.xlabel('bmi')\n",
    "plt.ylabel('s5')\n",
    "\n",
    "plt.hlines(-0.004219, -0.1, 0.2)\n",
    "plt.vlines(0.01427, -0.004219, 0.2)\n",
    "plt.vlines(0.00565, -0.15, -0.004219)\n",
    "plt.show()"
   ]
  },
  {
   "cell_type": "markdown",
   "metadata": {},
   "source": [
    "### Part (b) Fitting a Full Regression Tree\n",
    "\n",
    "Now build a tree that uses all the predictor variables, has a more flexible structure, and is validated with a test set. Split the full dataset into a training set and a test set (50/50). Fit a regression tree to the training set using the function `DecisionTreeRegressor` from `sklearn.tree`. For now, use your best judgment to choose parameters for tree complexity; we will use analytical methods to choose parameters in later parts of this problem set. Some starter code is provided:"
   ]
  },
  {
   "cell_type": "code",
   "execution_count": 12,
   "metadata": {},
   "outputs": [],
   "source": [
    "import random\n",
    "indices = random.sample(range(442), 221)\n",
    "indicesC = [i for i in range(442) if i not in indices]\n",
    "xtrain = diabetes_x[indices,:]\n",
    "ytrain = diabetes_y[indices]\n",
    "xtest = diabetes_x[indicesC,:]\n",
    "ytest = diabetes_y[indicesC]"
   ]
  },
  {
   "cell_type": "code",
   "execution_count": 204,
   "metadata": {},
   "outputs": [],
   "source": [
    "from sklearn import tree\n",
    "regr = tree.DecisionTreeRegressor(criterion='mse', splitter='best', \n",
    "                                  min_samples_leaf = 15, max_features = i).fit(xtrain,ytrain)"
   ]
  },
  {
   "cell_type": "markdown",
   "metadata": {},
   "source": [
    "### Part (c) Plotting the Tree\n",
    "\n",
    "Plot your regression tree. To do so, we suggest that you use GraphViz in conjunction with `sklearn.tree.export_graphviz`. Once you install GraphViz, the following cell will plot the tree.\n",
    "\n",
    "Instructions for using GraphViz (Windows):\n",
    "\n",
    "1. Install GraphViz to your computer from the link [https://graphviz.gitlab.io/download/](https://graphviz.gitlab.io/download/).\n",
    "\n",
    "2. Install the Python package using `pip install graphviz` or `conda install graphviz`.\n",
    "\n",
    "3. Set a path to your computer's GraphViz installation (NOT the Python package). You can do so locally in this notebook by running something like `import os; os.environ[\"PATH\"] += os.pathsep + 'C:/Program Files (x86)/Graphviz2.38/bin/'` (substituting in the location of your own GraphViz installation).\n",
    "\n",
    "4. You can now use the functions in the `graphviz` package with `sklearn.tree.export_graphviz`!\n",
    "\n",
    "Instructions for using GraphViz (Mac OS):\n",
    "\n",
    "1. Make sure you have the package manager Homebrew.\n",
    "\n",
    "2. Install GraphViz to your computer using `brew install graphviz`.\n",
    "\n",
    "3. Install the Python package using `pip install graphviz` or `conda install graphviz`.\n",
    "\n",
    "4. You can now use the functions in the `graphviz` package with `sklearn.tree.export_graphviz`! _Note: If you get an ExecutableNotFound error, you might have to set a path to your computer's GraphViz installation (NOT the Python package). You can do so locally in this notebook by running something like `import os; os.environ[\"PATH\"] += os.pathsep + 'C:/Program Files (x86)/Graphviz2.38/bin/'` (substituting in the location of your own GraphViz installation)._\n"
   ]
  },
  {
   "cell_type": "code",
   "execution_count": 205,
   "metadata": {},
   "outputs": [
    {
     "data": {
      "image/svg+xml": [
       "<?xml version=\"1.0\" encoding=\"UTF-8\" standalone=\"no\"?>\n",
       "<!DOCTYPE svg PUBLIC \"-//W3C//DTD SVG 1.1//EN\"\n",
       " \"http://www.w3.org/Graphics/SVG/1.1/DTD/svg11.dtd\">\n",
       "<!-- Generated by graphviz version 2.40.1 (20161225.0304)\n",
       " -->\n",
       "<!-- Title: Tree Pages: 1 -->\n",
       "<svg width=\"919pt\" height=\"558pt\"\n",
       " viewBox=\"0.00 0.00 919.46 558.00\" xmlns=\"http://www.w3.org/2000/svg\" xmlns:xlink=\"http://www.w3.org/1999/xlink\">\n",
       "<g id=\"graph0\" class=\"graph\" transform=\"scale(1 1) rotate(0) translate(4 554)\">\n",
       "<title>Tree</title>\n",
       "<polygon fill=\"#ffffff\" stroke=\"transparent\" points=\"-4,4 -4,-554 915.4565,-554 915.4565,4 -4,4\"/>\n",
       "<!-- 0 -->\n",
       "<g id=\"node1\" class=\"node\">\n",
       "<title>0</title>\n",
       "<polygon fill=\"none\" stroke=\"#000000\" points=\"598.0474,-550 492.1528,-550 492.1528,-486 598.0474,-486 598.0474,-550\"/>\n",
       "<text text-anchor=\"middle\" x=\"545.1001\" y=\"-534.8\" font-family=\"Times,serif\" font-size=\"14.00\" fill=\"#000000\">s5 &lt;= &#45;0.001</text>\n",
       "<text text-anchor=\"middle\" x=\"545.1001\" y=\"-520.8\" font-family=\"Times,serif\" font-size=\"14.00\" fill=\"#000000\">mse = 5492.305</text>\n",
       "<text text-anchor=\"middle\" x=\"545.1001\" y=\"-506.8\" font-family=\"Times,serif\" font-size=\"14.00\" fill=\"#000000\">samples = 221</text>\n",
       "<text text-anchor=\"middle\" x=\"545.1001\" y=\"-492.8\" font-family=\"Times,serif\" font-size=\"14.00\" fill=\"#000000\">value = 148.71</text>\n",
       "</g>\n",
       "<!-- 1 -->\n",
       "<g id=\"node2\" class=\"node\">\n",
       "<title>1</title>\n",
       "<polygon fill=\"none\" stroke=\"#000000\" points=\"536.3134,-450 429.8868,-450 429.8868,-386 536.3134,-386 536.3134,-450\"/>\n",
       "<text text-anchor=\"middle\" x=\"483.1001\" y=\"-434.8\" font-family=\"Times,serif\" font-size=\"14.00\" fill=\"#000000\">bmi &lt;= 0.006</text>\n",
       "<text text-anchor=\"middle\" x=\"483.1001\" y=\"-420.8\" font-family=\"Times,serif\" font-size=\"14.00\" fill=\"#000000\">mse = 3043.619</text>\n",
       "<text text-anchor=\"middle\" x=\"483.1001\" y=\"-406.8\" font-family=\"Times,serif\" font-size=\"14.00\" fill=\"#000000\">samples = 113</text>\n",
       "<text text-anchor=\"middle\" x=\"483.1001\" y=\"-392.8\" font-family=\"Times,serif\" font-size=\"14.00\" fill=\"#000000\">value = 109.788</text>\n",
       "</g>\n",
       "<!-- 0&#45;&gt;1 -->\n",
       "<g id=\"edge1\" class=\"edge\">\n",
       "<title>0&#45;&gt;1</title>\n",
       "<path fill=\"none\" stroke=\"#000000\" d=\"M525.1416,-485.8089C519.7764,-477.1553 513.9036,-467.683 508.2938,-458.635\"/>\n",
       "<polygon fill=\"#000000\" stroke=\"#000000\" points=\"511.2653,-456.7855 503.0212,-450.1308 505.3159,-460.4741 511.2653,-456.7855\"/>\n",
       "<text text-anchor=\"middle\" x=\"497.3119\" y=\"-470.2701\" font-family=\"Times,serif\" font-size=\"14.00\" fill=\"#000000\">True</text>\n",
       "</g>\n",
       "<!-- 12 -->\n",
       "<g id=\"node13\" class=\"node\">\n",
       "<title>12</title>\n",
       "<polygon fill=\"none\" stroke=\"#000000\" points=\"661.3134,-450 554.8868,-450 554.8868,-386 661.3134,-386 661.3134,-450\"/>\n",
       "<text text-anchor=\"middle\" x=\"608.1001\" y=\"-434.8\" font-family=\"Times,serif\" font-size=\"14.00\" fill=\"#000000\">s5 &lt;= 0.027</text>\n",
       "<text text-anchor=\"middle\" x=\"608.1001\" y=\"-420.8\" font-family=\"Times,serif\" font-size=\"14.00\" fill=\"#000000\">mse = 4810.727</text>\n",
       "<text text-anchor=\"middle\" x=\"608.1001\" y=\"-406.8\" font-family=\"Times,serif\" font-size=\"14.00\" fill=\"#000000\">samples = 108</text>\n",
       "<text text-anchor=\"middle\" x=\"608.1001\" y=\"-392.8\" font-family=\"Times,serif\" font-size=\"14.00\" fill=\"#000000\">value = 189.435</text>\n",
       "</g>\n",
       "<!-- 0&#45;&gt;12 -->\n",
       "<g id=\"edge12\" class=\"edge\">\n",
       "<title>0&#45;&gt;12</title>\n",
       "<path fill=\"none\" stroke=\"#000000\" d=\"M565.3805,-485.8089C570.8323,-477.1553 576.7998,-467.683 582.5,-458.635\"/>\n",
       "<polygon fill=\"#000000\" stroke=\"#000000\" points=\"585.4886,-460.4573 587.8577,-450.1308 579.566,-456.726 585.4886,-460.4573\"/>\n",
       "<text text-anchor=\"middle\" x=\"593.3918\" y=\"-470.3105\" font-family=\"Times,serif\" font-size=\"14.00\" fill=\"#000000\">False</text>\n",
       "</g>\n",
       "<!-- 2 -->\n",
       "<g id=\"node3\" class=\"node\">\n",
       "<title>2</title>\n",
       "<polygon fill=\"none\" stroke=\"#000000\" points=\"413.0474,-350 307.1528,-350 307.1528,-286 413.0474,-286 413.0474,-350\"/>\n",
       "<text text-anchor=\"middle\" x=\"360.1001\" y=\"-334.8\" font-family=\"Times,serif\" font-size=\"14.00\" fill=\"#000000\">s3 &lt;= 0.047</text>\n",
       "<text text-anchor=\"middle\" x=\"360.1001\" y=\"-320.8\" font-family=\"Times,serif\" font-size=\"14.00\" fill=\"#000000\">mse = 2164.379</text>\n",
       "<text text-anchor=\"middle\" x=\"360.1001\" y=\"-306.8\" font-family=\"Times,serif\" font-size=\"14.00\" fill=\"#000000\">samples = 90</text>\n",
       "<text text-anchor=\"middle\" x=\"360.1001\" y=\"-292.8\" font-family=\"Times,serif\" font-size=\"14.00\" fill=\"#000000\">value = 99.9</text>\n",
       "</g>\n",
       "<!-- 1&#45;&gt;2 -->\n",
       "<g id=\"edge2\" class=\"edge\">\n",
       "<title>1&#45;&gt;2</title>\n",
       "<path fill=\"none\" stroke=\"#000000\" d=\"M443.5051,-385.8089C432.093,-376.5308 419.5234,-366.3116 407.6805,-356.6833\"/>\n",
       "<polygon fill=\"#000000\" stroke=\"#000000\" points=\"409.5881,-353.7234 399.6209,-350.1308 405.1722,-359.1548 409.5881,-353.7234\"/>\n",
       "</g>\n",
       "<!-- 11 -->\n",
       "<g id=\"node12\" class=\"node\">\n",
       "<title>11</title>\n",
       "<polygon fill=\"none\" stroke=\"#000000\" points=\"537.3134,-343 430.8868,-343 430.8868,-293 537.3134,-293 537.3134,-343\"/>\n",
       "<text text-anchor=\"middle\" x=\"484.1001\" y=\"-327.8\" font-family=\"Times,serif\" font-size=\"14.00\" fill=\"#000000\">mse = 4604.597</text>\n",
       "<text text-anchor=\"middle\" x=\"484.1001\" y=\"-313.8\" font-family=\"Times,serif\" font-size=\"14.00\" fill=\"#000000\">samples = 23</text>\n",
       "<text text-anchor=\"middle\" x=\"484.1001\" y=\"-299.8\" font-family=\"Times,serif\" font-size=\"14.00\" fill=\"#000000\">value = 148.478</text>\n",
       "</g>\n",
       "<!-- 1&#45;&gt;11 -->\n",
       "<g id=\"edge11\" class=\"edge\">\n",
       "<title>1&#45;&gt;11</title>\n",
       "<path fill=\"none\" stroke=\"#000000\" d=\"M483.422,-385.8089C483.5256,-375.446 483.641,-363.909 483.7468,-353.3327\"/>\n",
       "<polygon fill=\"#000000\" stroke=\"#000000\" points=\"487.2483,-353.1901 483.8485,-343.1555 480.2486,-353.12 487.2483,-353.1901\"/>\n",
       "</g>\n",
       "<!-- 3 -->\n",
       "<g id=\"node4\" class=\"node\">\n",
       "<title>3</title>\n",
       "<polygon fill=\"none\" stroke=\"#000000\" points=\"289.5474,-250 190.6528,-250 190.6528,-186 289.5474,-186 289.5474,-250\"/>\n",
       "<text text-anchor=\"middle\" x=\"240.1001\" y=\"-234.8\" font-family=\"Times,serif\" font-size=\"14.00\" fill=\"#000000\">bp &lt;= &#45;0.013</text>\n",
       "<text text-anchor=\"middle\" x=\"240.1001\" y=\"-220.8\" font-family=\"Times,serif\" font-size=\"14.00\" fill=\"#000000\">mse = 2409.65</text>\n",
       "<text text-anchor=\"middle\" x=\"240.1001\" y=\"-206.8\" font-family=\"Times,serif\" font-size=\"14.00\" fill=\"#000000\">samples = 60</text>\n",
       "<text text-anchor=\"middle\" x=\"240.1001\" y=\"-192.8\" font-family=\"Times,serif\" font-size=\"14.00\" fill=\"#000000\">value = 110.5</text>\n",
       "</g>\n",
       "<!-- 2&#45;&gt;3 -->\n",
       "<g id=\"edge3\" class=\"edge\">\n",
       "<title>2&#45;&gt;3</title>\n",
       "<path fill=\"none\" stroke=\"#000000\" d=\"M321.4708,-285.8089C310.3371,-276.5308 298.074,-266.3116 286.52,-256.6833\"/>\n",
       "<polygon fill=\"#000000\" stroke=\"#000000\" points=\"288.5799,-253.8439 278.657,-250.1308 284.0986,-259.2214 288.5799,-253.8439\"/>\n",
       "</g>\n",
       "<!-- 8 -->\n",
       "<g id=\"node9\" class=\"node\">\n",
       "<title>8</title>\n",
       "<polygon fill=\"none\" stroke=\"#000000\" points=\"410.5474,-250 311.6528,-250 311.6528,-186 410.5474,-186 410.5474,-250\"/>\n",
       "<text text-anchor=\"middle\" x=\"361.1001\" y=\"-234.8\" font-family=\"Times,serif\" font-size=\"14.00\" fill=\"#000000\">s6 &lt;= &#45;0.032</text>\n",
       "<text text-anchor=\"middle\" x=\"361.1001\" y=\"-220.8\" font-family=\"Times,serif\" font-size=\"14.00\" fill=\"#000000\">mse = 999.677</text>\n",
       "<text text-anchor=\"middle\" x=\"361.1001\" y=\"-206.8\" font-family=\"Times,serif\" font-size=\"14.00\" fill=\"#000000\">samples = 30</text>\n",
       "<text text-anchor=\"middle\" x=\"361.1001\" y=\"-192.8\" font-family=\"Times,serif\" font-size=\"14.00\" fill=\"#000000\">value = 78.7</text>\n",
       "</g>\n",
       "<!-- 2&#45;&gt;8 -->\n",
       "<g id=\"edge8\" class=\"edge\">\n",
       "<title>2&#45;&gt;8</title>\n",
       "<path fill=\"none\" stroke=\"#000000\" d=\"M360.422,-285.8089C360.5032,-277.6906 360.5916,-268.8517 360.6769,-260.3186\"/>\n",
       "<polygon fill=\"#000000\" stroke=\"#000000\" points=\"364.1785,-260.1653 360.7788,-250.1308 357.1789,-260.0952 364.1785,-260.1653\"/>\n",
       "</g>\n",
       "<!-- 4 -->\n",
       "<g id=\"node5\" class=\"node\">\n",
       "<title>4</title>\n",
       "<polygon fill=\"none\" stroke=\"#000000\" points=\"168.3134,-150 61.8868,-150 61.8868,-86 168.3134,-86 168.3134,-150\"/>\n",
       "<text text-anchor=\"middle\" x=\"115.1001\" y=\"-134.8\" font-family=\"Times,serif\" font-size=\"14.00\" fill=\"#000000\">age &lt;= &#45;0.015</text>\n",
       "<text text-anchor=\"middle\" x=\"115.1001\" y=\"-120.8\" font-family=\"Times,serif\" font-size=\"14.00\" fill=\"#000000\">mse = 1903.879</text>\n",
       "<text text-anchor=\"middle\" x=\"115.1001\" y=\"-106.8\" font-family=\"Times,serif\" font-size=\"14.00\" fill=\"#000000\">samples = 38</text>\n",
       "<text text-anchor=\"middle\" x=\"115.1001\" y=\"-92.8\" font-family=\"Times,serif\" font-size=\"14.00\" fill=\"#000000\">value = 101.553</text>\n",
       "</g>\n",
       "<!-- 3&#45;&gt;4 -->\n",
       "<g id=\"edge4\" class=\"edge\">\n",
       "<title>3&#45;&gt;4</title>\n",
       "<path fill=\"none\" stroke=\"#000000\" d=\"M199.8613,-185.8089C188.1521,-176.4416 175.2439,-166.115 163.1072,-156.4057\"/>\n",
       "<polygon fill=\"#000000\" stroke=\"#000000\" points=\"165.2587,-153.6447 155.2635,-150.1308 160.8858,-159.1108 165.2587,-153.6447\"/>\n",
       "</g>\n",
       "<!-- 7 -->\n",
       "<g id=\"node8\" class=\"node\">\n",
       "<title>7</title>\n",
       "<polygon fill=\"none\" stroke=\"#000000\" points=\"293.3134,-143 186.8868,-143 186.8868,-93 293.3134,-93 293.3134,-143\"/>\n",
       "<text text-anchor=\"middle\" x=\"240.1001\" y=\"-127.8\" font-family=\"Times,serif\" font-size=\"14.00\" fill=\"#000000\">mse = 2906.134</text>\n",
       "<text text-anchor=\"middle\" x=\"240.1001\" y=\"-113.8\" font-family=\"Times,serif\" font-size=\"14.00\" fill=\"#000000\">samples = 22</text>\n",
       "<text text-anchor=\"middle\" x=\"240.1001\" y=\"-99.8\" font-family=\"Times,serif\" font-size=\"14.00\" fill=\"#000000\">value = 125.955</text>\n",
       "</g>\n",
       "<!-- 3&#45;&gt;7 -->\n",
       "<g id=\"edge7\" class=\"edge\">\n",
       "<title>3&#45;&gt;7</title>\n",
       "<path fill=\"none\" stroke=\"#000000\" d=\"M240.1001,-185.8089C240.1001,-175.446 240.1001,-163.909 240.1001,-153.3327\"/>\n",
       "<polygon fill=\"#000000\" stroke=\"#000000\" points=\"243.6002,-153.1555 240.1001,-143.1555 236.6002,-153.1556 243.6002,-153.1555\"/>\n",
       "</g>\n",
       "<!-- 5 -->\n",
       "<g id=\"node6\" class=\"node\">\n",
       "<title>5</title>\n",
       "<polygon fill=\"none\" stroke=\"#000000\" points=\"106.3005,-50 -.1003,-50 -.1003,0 106.3005,0 106.3005,-50\"/>\n",
       "<text text-anchor=\"middle\" x=\"53.1001\" y=\"-34.8\" font-family=\"Times,serif\" font-size=\"14.00\" fill=\"#000000\">mse = 1566.085</text>\n",
       "<text text-anchor=\"middle\" x=\"53.1001\" y=\"-20.8\" font-family=\"Times,serif\" font-size=\"14.00\" fill=\"#000000\">samples = 22</text>\n",
       "<text text-anchor=\"middle\" x=\"53.1001\" y=\"-6.8\" font-family=\"Times,serif\" font-size=\"14.00\" fill=\"#000000\">value = 117.773</text>\n",
       "</g>\n",
       "<!-- 4&#45;&gt;5 -->\n",
       "<g id=\"edge5\" class=\"edge\">\n",
       "<title>4&#45;&gt;5</title>\n",
       "<path fill=\"none\" stroke=\"#000000\" d=\"M93.7632,-85.9947C87.8172,-77.0756 81.3442,-67.3661 75.3472,-58.3706\"/>\n",
       "<polygon fill=\"#000000\" stroke=\"#000000\" points=\"78.2353,-56.3931 69.7761,-50.014 72.411,-60.276 78.2353,-56.3931\"/>\n",
       "</g>\n",
       "<!-- 6 -->\n",
       "<g id=\"node7\" class=\"node\">\n",
       "<title>6</title>\n",
       "<polygon fill=\"none\" stroke=\"#000000\" points=\"230.0474,-50 124.1528,-50 124.1528,0 230.0474,0 230.0474,-50\"/>\n",
       "<text text-anchor=\"middle\" x=\"177.1001\" y=\"-34.8\" font-family=\"Times,serif\" font-size=\"14.00\" fill=\"#000000\">mse = 1509.188</text>\n",
       "<text text-anchor=\"middle\" x=\"177.1001\" y=\"-20.8\" font-family=\"Times,serif\" font-size=\"14.00\" fill=\"#000000\">samples = 16</text>\n",
       "<text text-anchor=\"middle\" x=\"177.1001\" y=\"-6.8\" font-family=\"Times,serif\" font-size=\"14.00\" fill=\"#000000\">value = 79.25</text>\n",
       "</g>\n",
       "<!-- 4&#45;&gt;6 -->\n",
       "<g id=\"edge6\" class=\"edge\">\n",
       "<title>4&#45;&gt;6</title>\n",
       "<path fill=\"none\" stroke=\"#000000\" d=\"M136.437,-85.9947C142.383,-77.0756 148.856,-67.3661 154.853,-58.3706\"/>\n",
       "<polygon fill=\"#000000\" stroke=\"#000000\" points=\"157.7892,-60.276 160.4241,-50.014 151.9648,-56.3931 157.7892,-60.276\"/>\n",
       "</g>\n",
       "<!-- 9 -->\n",
       "<g id=\"node10\" class=\"node\">\n",
       "<title>9</title>\n",
       "<polygon fill=\"none\" stroke=\"#000000\" points=\"410.8134,-143 311.3868,-143 311.3868,-93 410.8134,-93 410.8134,-143\"/>\n",
       "<text text-anchor=\"middle\" x=\"361.1001\" y=\"-127.8\" font-family=\"Times,serif\" font-size=\"14.00\" fill=\"#000000\">mse = 294.782</text>\n",
       "<text text-anchor=\"middle\" x=\"361.1001\" y=\"-113.8\" font-family=\"Times,serif\" font-size=\"14.00\" fill=\"#000000\">samples = 15</text>\n",
       "<text text-anchor=\"middle\" x=\"361.1001\" y=\"-99.8\" font-family=\"Times,serif\" font-size=\"14.00\" fill=\"#000000\">value = 66.467</text>\n",
       "</g>\n",
       "<!-- 8&#45;&gt;9 -->\n",
       "<g id=\"edge9\" class=\"edge\">\n",
       "<title>8&#45;&gt;9</title>\n",
       "<path fill=\"none\" stroke=\"#000000\" d=\"M361.1001,-185.8089C361.1001,-175.446 361.1001,-163.909 361.1001,-153.3327\"/>\n",
       "<polygon fill=\"#000000\" stroke=\"#000000\" points=\"364.6002,-153.1555 361.1001,-143.1555 357.6002,-153.1556 364.6002,-153.1555\"/>\n",
       "</g>\n",
       "<!-- 10 -->\n",
       "<g id=\"node11\" class=\"node\">\n",
       "<title>10</title>\n",
       "<polygon fill=\"none\" stroke=\"#000000\" points=\"535.0474,-143 429.1528,-143 429.1528,-93 535.0474,-93 535.0474,-143\"/>\n",
       "<text text-anchor=\"middle\" x=\"482.1001\" y=\"-127.8\" font-family=\"Times,serif\" font-size=\"14.00\" fill=\"#000000\">mse = 1405.262</text>\n",
       "<text text-anchor=\"middle\" x=\"482.1001\" y=\"-113.8\" font-family=\"Times,serif\" font-size=\"14.00\" fill=\"#000000\">samples = 15</text>\n",
       "<text text-anchor=\"middle\" x=\"482.1001\" y=\"-99.8\" font-family=\"Times,serif\" font-size=\"14.00\" fill=\"#000000\">value = 90.933</text>\n",
       "</g>\n",
       "<!-- 8&#45;&gt;10 -->\n",
       "<g id=\"edge10\" class=\"edge\">\n",
       "<title>8&#45;&gt;10</title>\n",
       "<path fill=\"none\" stroke=\"#000000\" d=\"M400.0513,-185.8089C414.0272,-174.2586 429.7679,-161.2497 443.697,-149.7381\"/>\n",
       "<polygon fill=\"#000000\" stroke=\"#000000\" points=\"446.1833,-152.2239 451.6619,-143.1555 441.7239,-146.8281 446.1833,-152.2239\"/>\n",
       "</g>\n",
       "<!-- 13 -->\n",
       "<g id=\"node14\" class=\"node\">\n",
       "<title>13</title>\n",
       "<polygon fill=\"none\" stroke=\"#000000\" points=\"661.3005,-350 554.8997,-350 554.8997,-286 661.3005,-286 661.3005,-350\"/>\n",
       "<text text-anchor=\"middle\" x=\"608.1001\" y=\"-334.8\" font-family=\"Times,serif\" font-size=\"14.00\" fill=\"#000000\">s3 &lt;= &#45;0.031</text>\n",
       "<text text-anchor=\"middle\" x=\"608.1001\" y=\"-320.8\" font-family=\"Times,serif\" font-size=\"14.00\" fill=\"#000000\">mse = 4555.51</text>\n",
       "<text text-anchor=\"middle\" x=\"608.1001\" y=\"-306.8\" font-family=\"Times,serif\" font-size=\"14.00\" fill=\"#000000\">samples = 44</text>\n",
       "<text text-anchor=\"middle\" x=\"608.1001\" y=\"-292.8\" font-family=\"Times,serif\" font-size=\"14.00\" fill=\"#000000\">value = 159.114</text>\n",
       "</g>\n",
       "<!-- 12&#45;&gt;13 -->\n",
       "<g id=\"edge13\" class=\"edge\">\n",
       "<title>12&#45;&gt;13</title>\n",
       "<path fill=\"none\" stroke=\"#000000\" d=\"M608.1001,-385.8089C608.1001,-377.6906 608.1001,-368.8517 608.1001,-360.3186\"/>\n",
       "<polygon fill=\"#000000\" stroke=\"#000000\" points=\"611.6002,-360.1307 608.1001,-350.1308 604.6002,-360.1308 611.6002,-360.1307\"/>\n",
       "</g>\n",
       "<!-- 16 -->\n",
       "<g id=\"node17\" class=\"node\">\n",
       "<title>16</title>\n",
       "<polygon fill=\"none\" stroke=\"#000000\" points=\"786.3134,-350 679.8868,-350 679.8868,-286 786.3134,-286 786.3134,-350\"/>\n",
       "<text text-anchor=\"middle\" x=\"733.1001\" y=\"-334.8\" font-family=\"Times,serif\" font-size=\"14.00\" fill=\"#000000\">bp &lt;= 0.055</text>\n",
       "<text text-anchor=\"middle\" x=\"733.1001\" y=\"-320.8\" font-family=\"Times,serif\" font-size=\"14.00\" fill=\"#000000\">mse = 3919.546</text>\n",
       "<text text-anchor=\"middle\" x=\"733.1001\" y=\"-306.8\" font-family=\"Times,serif\" font-size=\"14.00\" fill=\"#000000\">samples = 64</text>\n",
       "<text text-anchor=\"middle\" x=\"733.1001\" y=\"-292.8\" font-family=\"Times,serif\" font-size=\"14.00\" fill=\"#000000\">value = 210.281</text>\n",
       "</g>\n",
       "<!-- 12&#45;&gt;16 -->\n",
       "<g id=\"edge16\" class=\"edge\">\n",
       "<title>12&#45;&gt;16</title>\n",
       "<path fill=\"none\" stroke=\"#000000\" d=\"M648.3389,-385.8089C660.0481,-376.4416 672.9563,-366.115 685.093,-356.4057\"/>\n",
       "<polygon fill=\"#000000\" stroke=\"#000000\" points=\"687.3144,-359.1108 692.9366,-350.1308 682.9415,-353.6447 687.3144,-359.1108\"/>\n",
       "</g>\n",
       "<!-- 14 -->\n",
       "<g id=\"node15\" class=\"node\">\n",
       "<title>14</title>\n",
       "<polygon fill=\"none\" stroke=\"#000000\" points=\"536.3134,-243 429.8868,-243 429.8868,-193 536.3134,-193 536.3134,-243\"/>\n",
       "<text text-anchor=\"middle\" x=\"483.1001\" y=\"-227.8\" font-family=\"Times,serif\" font-size=\"14.00\" fill=\"#000000\">mse = 5334.107</text>\n",
       "<text text-anchor=\"middle\" x=\"483.1001\" y=\"-213.8\" font-family=\"Times,serif\" font-size=\"14.00\" fill=\"#000000\">samples = 22</text>\n",
       "<text text-anchor=\"middle\" x=\"483.1001\" y=\"-199.8\" font-family=\"Times,serif\" font-size=\"14.00\" fill=\"#000000\">value = 178.273</text>\n",
       "</g>\n",
       "<!-- 13&#45;&gt;14 -->\n",
       "<g id=\"edge14\" class=\"edge\">\n",
       "<title>13&#45;&gt;14</title>\n",
       "<path fill=\"none\" stroke=\"#000000\" d=\"M567.8613,-285.8089C553.2884,-274.1506 536.8581,-261.0064 522.3697,-249.4157\"/>\n",
       "<polygon fill=\"#000000\" stroke=\"#000000\" points=\"524.5397,-246.6695 514.5445,-243.1555 520.1668,-252.1356 524.5397,-246.6695\"/>\n",
       "</g>\n",
       "<!-- 15 -->\n",
       "<g id=\"node16\" class=\"node\">\n",
       "<title>15</title>\n",
       "<polygon fill=\"none\" stroke=\"#000000\" points=\"661.3134,-243 554.8868,-243 554.8868,-193 661.3134,-193 661.3134,-243\"/>\n",
       "<text text-anchor=\"middle\" x=\"608.1001\" y=\"-227.8\" font-family=\"Times,serif\" font-size=\"14.00\" fill=\"#000000\">mse = 3042.771</text>\n",
       "<text text-anchor=\"middle\" x=\"608.1001\" y=\"-213.8\" font-family=\"Times,serif\" font-size=\"14.00\" fill=\"#000000\">samples = 22</text>\n",
       "<text text-anchor=\"middle\" x=\"608.1001\" y=\"-199.8\" font-family=\"Times,serif\" font-size=\"14.00\" fill=\"#000000\">value = 139.955</text>\n",
       "</g>\n",
       "<!-- 13&#45;&gt;15 -->\n",
       "<g id=\"edge15\" class=\"edge\">\n",
       "<title>13&#45;&gt;15</title>\n",
       "<path fill=\"none\" stroke=\"#000000\" d=\"M608.1001,-285.8089C608.1001,-275.446 608.1001,-263.909 608.1001,-253.3327\"/>\n",
       "<polygon fill=\"#000000\" stroke=\"#000000\" points=\"611.6002,-253.1555 608.1001,-243.1555 604.6002,-253.1556 611.6002,-253.1555\"/>\n",
       "</g>\n",
       "<!-- 17 -->\n",
       "<g id=\"node18\" class=\"node\">\n",
       "<title>17</title>\n",
       "<polygon fill=\"none\" stroke=\"#000000\" points=\"786.3134,-250 679.8868,-250 679.8868,-186 786.3134,-186 786.3134,-250\"/>\n",
       "<text text-anchor=\"middle\" x=\"733.1001\" y=\"-234.8\" font-family=\"Times,serif\" font-size=\"14.00\" fill=\"#000000\">bmi &lt;= 0.009</text>\n",
       "<text text-anchor=\"middle\" x=\"733.1001\" y=\"-220.8\" font-family=\"Times,serif\" font-size=\"14.00\" fill=\"#000000\">mse = 3579.429</text>\n",
       "<text text-anchor=\"middle\" x=\"733.1001\" y=\"-206.8\" font-family=\"Times,serif\" font-size=\"14.00\" fill=\"#000000\">samples = 49</text>\n",
       "<text text-anchor=\"middle\" x=\"733.1001\" y=\"-192.8\" font-family=\"Times,serif\" font-size=\"14.00\" fill=\"#000000\">value = 195.286</text>\n",
       "</g>\n",
       "<!-- 16&#45;&gt;17 -->\n",
       "<g id=\"edge17\" class=\"edge\">\n",
       "<title>16&#45;&gt;17</title>\n",
       "<path fill=\"none\" stroke=\"#000000\" d=\"M733.1001,-285.8089C733.1001,-277.6906 733.1001,-268.8517 733.1001,-260.3186\"/>\n",
       "<polygon fill=\"#000000\" stroke=\"#000000\" points=\"736.6002,-260.1307 733.1001,-250.1308 729.6002,-260.1308 736.6002,-260.1307\"/>\n",
       "</g>\n",
       "<!-- 22 -->\n",
       "<g id=\"node23\" class=\"node\">\n",
       "<title>22</title>\n",
       "<polygon fill=\"none\" stroke=\"#000000\" points=\"911.3134,-243 804.8868,-243 804.8868,-193 911.3134,-193 911.3134,-243\"/>\n",
       "<text text-anchor=\"middle\" x=\"858.1001\" y=\"-227.8\" font-family=\"Times,serif\" font-size=\"14.00\" fill=\"#000000\">mse = 1896.462</text>\n",
       "<text text-anchor=\"middle\" x=\"858.1001\" y=\"-213.8\" font-family=\"Times,serif\" font-size=\"14.00\" fill=\"#000000\">samples = 15</text>\n",
       "<text text-anchor=\"middle\" x=\"858.1001\" y=\"-199.8\" font-family=\"Times,serif\" font-size=\"14.00\" fill=\"#000000\">value = 259.267</text>\n",
       "</g>\n",
       "<!-- 16&#45;&gt;22 -->\n",
       "<g id=\"edge22\" class=\"edge\">\n",
       "<title>16&#45;&gt;22</title>\n",
       "<path fill=\"none\" stroke=\"#000000\" d=\"M773.3389,-285.8089C787.9118,-274.1506 804.342,-261.0064 818.8305,-249.4157\"/>\n",
       "<polygon fill=\"#000000\" stroke=\"#000000\" points=\"821.0334,-252.1356 826.6557,-243.1555 816.6605,-246.6695 821.0334,-252.1356\"/>\n",
       "</g>\n",
       "<!-- 18 -->\n",
       "<g id=\"node19\" class=\"node\">\n",
       "<title>18</title>\n",
       "<polygon fill=\"none\" stroke=\"#000000\" points=\"724.3134,-143 617.8868,-143 617.8868,-93 724.3134,-93 724.3134,-143\"/>\n",
       "<text text-anchor=\"middle\" x=\"671.1001\" y=\"-127.8\" font-family=\"Times,serif\" font-size=\"14.00\" fill=\"#000000\">mse = 2982.404</text>\n",
       "<text text-anchor=\"middle\" x=\"671.1001\" y=\"-113.8\" font-family=\"Times,serif\" font-size=\"14.00\" fill=\"#000000\">samples = 19</text>\n",
       "<text text-anchor=\"middle\" x=\"671.1001\" y=\"-99.8\" font-family=\"Times,serif\" font-size=\"14.00\" fill=\"#000000\">value = 165.737</text>\n",
       "</g>\n",
       "<!-- 17&#45;&gt;18 -->\n",
       "<g id=\"edge18\" class=\"edge\">\n",
       "<title>17&#45;&gt;18</title>\n",
       "<path fill=\"none\" stroke=\"#000000\" d=\"M713.1416,-185.8089C706.382,-174.9063 698.8166,-162.7041 691.9868,-151.6882\"/>\n",
       "<polygon fill=\"#000000\" stroke=\"#000000\" points=\"694.9406,-149.8103 686.6965,-143.1555 688.9913,-153.4989 694.9406,-149.8103\"/>\n",
       "</g>\n",
       "<!-- 19 -->\n",
       "<g id=\"node20\" class=\"node\">\n",
       "<title>19</title>\n",
       "<polygon fill=\"none\" stroke=\"#000000\" points=\"848.0474,-150 742.1528,-150 742.1528,-86 848.0474,-86 848.0474,-150\"/>\n",
       "<text text-anchor=\"middle\" x=\"795.1001\" y=\"-134.8\" font-family=\"Times,serif\" font-size=\"14.00\" fill=\"#000000\">s1 &lt;= 0.037</text>\n",
       "<text text-anchor=\"middle\" x=\"795.1001\" y=\"-120.8\" font-family=\"Times,serif\" font-size=\"14.00\" fill=\"#000000\">mse = 3054.333</text>\n",
       "<text text-anchor=\"middle\" x=\"795.1001\" y=\"-106.8\" font-family=\"Times,serif\" font-size=\"14.00\" fill=\"#000000\">samples = 30</text>\n",
       "<text text-anchor=\"middle\" x=\"795.1001\" y=\"-92.8\" font-family=\"Times,serif\" font-size=\"14.00\" fill=\"#000000\">value = 214.0</text>\n",
       "</g>\n",
       "<!-- 17&#45;&gt;19 -->\n",
       "<g id=\"edge19\" class=\"edge\">\n",
       "<title>17&#45;&gt;19</title>\n",
       "<path fill=\"none\" stroke=\"#000000\" d=\"M753.0586,-185.8089C758.4238,-177.1553 764.2966,-167.683 769.9064,-158.635\"/>\n",
       "<polygon fill=\"#000000\" stroke=\"#000000\" points=\"772.8842,-160.4741 775.179,-150.1308 766.9349,-156.7855 772.8842,-160.4741\"/>\n",
       "</g>\n",
       "<!-- 20 -->\n",
       "<g id=\"node21\" class=\"node\">\n",
       "<title>20</title>\n",
       "<polygon fill=\"none\" stroke=\"#000000\" points=\"785.3134,-50 678.8868,-50 678.8868,0 785.3134,0 785.3134,-50\"/>\n",
       "<text text-anchor=\"middle\" x=\"732.1001\" y=\"-34.8\" font-family=\"Times,serif\" font-size=\"14.00\" fill=\"#000000\">mse = 3219.316</text>\n",
       "<text text-anchor=\"middle\" x=\"732.1001\" y=\"-20.8\" font-family=\"Times,serif\" font-size=\"14.00\" fill=\"#000000\">samples = 15</text>\n",
       "<text text-anchor=\"middle\" x=\"732.1001\" y=\"-6.8\" font-family=\"Times,serif\" font-size=\"14.00\" fill=\"#000000\">value = 228.867</text>\n",
       "</g>\n",
       "<!-- 19&#45;&gt;20 -->\n",
       "<g id=\"edge20\" class=\"edge\">\n",
       "<title>19&#45;&gt;20</title>\n",
       "<path fill=\"none\" stroke=\"#000000\" d=\"M773.4191,-85.9947C767.3771,-77.0756 760.7997,-67.3661 754.706,-58.3706\"/>\n",
       "<polygon fill=\"#000000\" stroke=\"#000000\" points=\"757.5513,-56.3303 749.0451,-50.014 751.7559,-60.2562 757.5513,-56.3303\"/>\n",
       "</g>\n",
       "<!-- 21 -->\n",
       "<g id=\"node22\" class=\"node\">\n",
       "<title>21</title>\n",
       "<polygon fill=\"none\" stroke=\"#000000\" points=\"910.3134,-50 803.8868,-50 803.8868,0 910.3134,0 910.3134,-50\"/>\n",
       "<text text-anchor=\"middle\" x=\"857.1001\" y=\"-34.8\" font-family=\"Times,serif\" font-size=\"14.00\" fill=\"#000000\">mse = 2447.316</text>\n",
       "<text text-anchor=\"middle\" x=\"857.1001\" y=\"-20.8\" font-family=\"Times,serif\" font-size=\"14.00\" fill=\"#000000\">samples = 15</text>\n",
       "<text text-anchor=\"middle\" x=\"857.1001\" y=\"-6.8\" font-family=\"Times,serif\" font-size=\"14.00\" fill=\"#000000\">value = 199.133</text>\n",
       "</g>\n",
       "<!-- 19&#45;&gt;21 -->\n",
       "<g id=\"edge21\" class=\"edge\">\n",
       "<title>19&#45;&gt;21</title>\n",
       "<path fill=\"none\" stroke=\"#000000\" d=\"M816.437,-85.9947C822.383,-77.0756 828.856,-67.3661 834.853,-58.3706\"/>\n",
       "<polygon fill=\"#000000\" stroke=\"#000000\" points=\"837.7892,-60.276 840.4241,-50.014 831.9648,-56.3931 837.7892,-60.276\"/>\n",
       "</g>\n",
       "</g>\n",
       "</svg>\n"
      ],
      "text/plain": [
       "<graphviz.files.Source at 0x1a26cdf518>"
      ]
     },
     "execution_count": 205,
     "metadata": {},
     "output_type": "execute_result"
    }
   ],
   "source": [
    "import graphviz\n",
    "graphviz.Source(tree.export_graphviz(regr, out_file=None, feature_names=diabetes.feature_names))"
   ]
  },
  {
   "cell_type": "markdown",
   "metadata": {},
   "source": [
    "### Part (d) Evaluation\n",
    "\n",
    "Interpret your regression tree. What are some examples of variables that seem to correspond with higher or lower measures of diabetes progression? Find the MSE of the model using the test set. The `.predict` method for your model can help with this."
   ]
  },
  {
   "cell_type": "markdown",
   "metadata": {},
   "source": [
    "I looked at the splits on the model for variables where having greater values of them led to a greater diabetes model, and vice versa. Examples where an increase in the variable led to an increase in diabetes were bmi, s5 and bp, whereas age, s1, and s3 are examples of variables associated with a decrease in diabetes. This shows that these variables were identified to be more important towards the model.\n",
    "\n",
    "The model displays considerable mean squared error, which comes from the fact that we have limited the number of trees and therefore it cannot generate predictions specific or fine-tuned to each datapoint. In a previous tree I tried with a much larger number of leaves, the MSE went down considerably, which is to be expected with the constraints we set for the model."
   ]
  },
  {
   "cell_type": "code",
   "execution_count": 206,
   "metadata": {},
   "outputs": [
    {
     "data": {
      "text/plain": [
       "4057.362692842495"
      ]
     },
     "execution_count": 206,
     "metadata": {},
     "output_type": "execute_result"
    }
   ],
   "source": [
    "import statistics as stat\n",
    "from sklearn.metrics import mean_squared_error \n",
    "mean_squared_error(regr.predict(xtest),ytest)"
   ]
  },
  {
   "cell_type": "markdown",
   "metadata": {},
   "source": [
    "### Part (e) Random Forest\n",
    "\n",
    "Now use random forests to analyze the data with the `RandomForestRegressor` function from `sklearn.ensemble`. (Again, you may use your best judgment to choose the initial parameters for tree complexity.)\n",
    "\n",
    "__(i)__ What test MSE do you obtain, and how does it compare to the test MSE of the regression tree above? \n",
    "\n",
    "__(ii)__ According to the model, which variables are most important in predicting diabetes progression? (The `.feature_importances_` method of the model may help with this.)\n",
    "\n",
    "__(iii)__ Plot the MSE of the prediction against $m$, the number of variables considered at each split.\n",
    "\n",
    "__(iv)__ Comment on the plot you created and if it makes sense."
   ]
  },
  {
   "cell_type": "code",
   "execution_count": 477,
   "metadata": {},
   "outputs": [
    {
     "name": "stdout",
     "output_type": "stream",
     "text": [
      "The sum is: 753681.4753294536\n",
      "The MSE is: 3410.32341778033\n"
     ]
    }
   ],
   "source": [
    "from sklearn import ensemble\n",
    "\n",
    "# Here is an example of how to use the random forest function in sklearn.ensemble.\n",
    "# The code below assumes that the training inputs and responses are loaded in the variables train_x and train_y\n",
    "# and that the test predictor variables are in test_x\n",
    "\n",
    "dtr = ensemble.RandomForestRegressor(min_samples_leaf = 15, max_features = 4, n_estimators = 10)\n",
    "regr = dtr.fit(xtrain, ytrain)\n",
    "pred_y = regr.predict(xtest)\n",
    "mseSum = sum(np.square(ytest-pred_y))\n",
    "mse = stat.mean(np.square(ytest-pred_y))\n",
    "\n",
    "# Your Code Here\n",
    "print(\"The sum is: \" + str(mseSum))\n",
    "print(\"The MSE is: \" + str(mse))"
   ]
  },
  {
   "cell_type": "markdown",
   "metadata": {},
   "source": [
    "The sum of the squared errors was 753,681, and the MSE was 3410.3 - which turns out to be lower than the decision tree."
   ]
  },
  {
   "cell_type": "code",
   "execution_count": 159,
   "metadata": {},
   "outputs": [
    {
     "data": {
      "text/plain": [
       "array([0.0016167 , 0.00523389, 0.34387247, 0.14749199, 0.00973636,\n",
       "       0.03288653, 0.09031844, 0.05733238, 0.2736852 , 0.03782604])"
      ]
     },
     "execution_count": 159,
     "metadata": {},
     "output_type": "execute_result"
    }
   ],
   "source": [
    "regr.feature_importances_"
   ]
  },
  {
   "cell_type": "markdown",
   "metadata": {},
   "source": [
    "Based on the feature_importance values, bmi contributed the most towards the prediction, followed by s5, and then by bp."
   ]
  },
  {
   "cell_type": "code",
   "execution_count": 215,
   "metadata": {},
   "outputs": [],
   "source": [
    "MSEs = []\n",
    "for i in range(1,10):\n",
    "    dtr = ensemble.RandomForestRegressor(min_samples_leaf = 15, n_estimators = 10, max_features = i)\n",
    "    regr = dtr.fit(xtrain, ytrain)\n",
    "    pred_y = regr.predict(xtest)\n",
    "    mse = sum(np.square(ytest-pred_y))\n",
    "    MSEs.append(mse)"
   ]
  },
  {
   "cell_type": "code",
   "execution_count": 216,
   "metadata": {},
   "outputs": [
    {
     "data": {
      "text/plain": [
       "<matplotlib.collections.PathCollection at 0x1a290a4dd8>"
      ]
     },
     "execution_count": 216,
     "metadata": {},
     "output_type": "execute_result"
    },
    {
     "data": {
      "image/png": "[encoded data removed]",
      "text/plain": [
       "<Figure size 432x288 with 1 Axes>"
      ]
     },
     "metadata": {
      "needs_background": "light"
     },
     "output_type": "display_data"
    }
   ],
   "source": [
    "plt.scatter(range(1,10),MSEs)"
   ]
  },
  {
   "cell_type": "markdown",
   "metadata": {},
   "source": [
    "The MSE drops drastically, then fluctuates between m = 2 to m = 8, before proceeding to rise again. This agrees with our general idea that the more variables are considered, the lower the error will be. We expect however that it will rise again with a further increase in variables, because it will overfit and variance with therefore increase, leading to a rise in MSE. This follows from what we know about MSE that it follows a quadratic form (at low m, bias is high, and at high m, variance is high, which will both lead to higher MSEs). "
   ]
  },
  {
   "cell_type": "markdown",
   "metadata": {},
   "source": [
    "## Question 2: Analyzing Real Estate Data (40 pts)\n",
    "\n",
    "In this problem, you will train random forests on data from the website Zillow to forecast the sale price of real estate listings. Random forests are nonparametric methods for classification and regression. As discussed in class, the method is based on the following idea: a good predictor will have low bias and low variance. A deep decision tree has low bias, but high variance. To reduce the variance, multiple trees are fit and averaged together. By introducing randomness in the construction of the trees, the correlation between them is reduced, to facilitate the variance reduction.\n",
    "\n",
    "Read in the training and test sets as follows:\n",
    "\n",
    "`import pandas as pd\n",
    "train = pd.read_csv(\"zillow_train.csv\")\n",
    "test = pd.read_csv(\"zillow_test.csv\")`\n",
    "\n",
    "Use the following variables: `Lat`, `Long`, `ListPrice`, `SaleYear`, `Bathroom`, `Bedroom`, `BuildDecade`, `MajorRenov`, `FinishSqFt`, `LotSqFt`, `MSA`, `City`, `HighSchool`, `SalePrice`. You will build regression models to predict `SalePrice`.\n",
    "\n",
    "\n",
    "### (a) Explore the data\n",
    "\n",
    "Get an idea of what kind of data you're working with. As usual, you might ask yourself what $n$ (sample size) and $p$ (number of predictor variables) are here. Make plots of the distributions of the variables. Include a plot of the response, `SalePrice`. Does it appear that the data are \"raw\", or have they been pre-processed in different ways? If so, how?"
   ]
  },
  {
   "cell_type": "code",
   "execution_count": 512,
   "metadata": {},
   "outputs": [],
   "source": [
    "import pandas as pd\n",
    "train = pd.read_csv(\"zillow_training.csv\")\n",
    "test = pd.read_csv(\"zillow_testing.csv\")\n",
    "train = train[['Lat', 'Long', 'ListPrice', 'SaleYear', 'Bathroom', 'Bedroom', 'BuildDecade', 'MajorRenov', 'FinishSqFt', 'LotSqFt', 'MSA', 'City', 'HighSchool', 'SalePrice']]\n",
    "test = test[['Lat', 'Long', 'ListPrice', 'SaleYear', 'Bathroom', 'Bedroom', 'BuildDecade', 'MajorRenov', 'FinishSqFt', 'LotSqFt', 'MSA', 'City', 'HighSchool', 'SalePrice']]"
   ]
  },
  {
   "cell_type": "markdown",
   "metadata": {},
   "source": [
    "n = 77728, p = 13\n",
    "\n",
    "Based on the histograms, they appear to be in sensible ranges. Furthermore, there are no more outliers, thus the data could have been preprocessed already. Most price variables also appear skewed to the right, however upon research it appears this is a natural trend in price data. "
   ]
  },
  {
   "cell_type": "code",
   "execution_count": 509,
   "metadata": {},
   "outputs": [
    {
     "data": {
      "image/png": "[encoded data removed]",
      "text/plain": [
       "<Figure size 432x288 with 1 Axes>"
      ]
     },
     "metadata": {
      "needs_background": "light"
     },
     "output_type": "display_data"
    },
    {
     "data": {
      "image/png": "[encoded data removed]",
      "text/plain": [
       "<Figure size 432x288 with 1 Axes>"
      ]
     },
     "metadata": {
      "needs_background": "light"
     },
     "output_type": "display_data"
    },
    {
     "data": {
      "image/png": "[encoded data removed]",
      "text/plain": [
       "<Figure size 432x288 with 1 Axes>"
      ]
     },
     "metadata": {
      "needs_background": "light"
     },
     "output_type": "display_data"
    },
    {
     "data": {
      "image/png": "[encoded data removed]",
      "text/plain": [
       "<Figure size 432x288 with 1 Axes>"
      ]
     },
     "metadata": {
      "needs_background": "light"
     },
     "output_type": "display_data"
    },
    {
     "data": {
      "image/png": "[encoded data removed]",
      "text/plain": [
       "<Figure size 432x288 with 1 Axes>"
      ]
     },
     "metadata": {
      "needs_background": "light"
     },
     "output_type": "display_data"
    },
    {
     "data": {
      "image/png": "[encoded data removed]",
      "text/plain": [
       "<Figure size 432x288 with 1 Axes>"
      ]
     },
     "metadata": {
      "needs_background": "light"
     },
     "output_type": "display_data"
    },
    {
     "data": {
      "image/png": "[encoded data removed]",
      "text/plain": [
       "<Figure size 432x288 with 1 Axes>"
      ]
     },
     "metadata": {
      "needs_background": "light"
     },
     "output_type": "display_data"
    },
    {
     "data": {
      "image/png": "[encoded data removed]",
      "text/plain": [
       "<Figure size 432x288 with 1 Axes>"
      ]
     },
     "metadata": {
      "needs_background": "light"
     },
     "output_type": "display_data"
    },
    {
     "data": {
      "image/png": "[encoded data removed]",
      "text/plain": [
       "<Figure size 432x288 with 1 Axes>"
      ]
     },
     "metadata": {
      "needs_background": "light"
     },
     "output_type": "display_data"
    }
   ],
   "source": [
    "for i in ['Lat', 'Long', 'ListPrice', \n",
    "          'SaleYear', 'Bathroom', 'Bedroom', \n",
    "          'FinishSqFt', 'LotSqFt', 'SalePrice']:\n",
    "    train.hist(column=i)"
   ]
  },
  {
   "cell_type": "markdown",
   "metadata": {},
   "source": [
    "### Part (b) Preliminary steps\n",
    "\n",
    "__(i)__ Some of the variables in the data are categorical; how many values do they take? (You may find the `.nunique` method of pandas to be useful here.) Why might factor variables with many categories present a problem when fitting decision trees? Describe a couple different ways of handling factor variables when fitting decision trees.\n"
   ]
  },
  {
   "cell_type": "code",
   "execution_count": 510,
   "metadata": {},
   "outputs": [
    {
     "name": "stdout",
     "output_type": "stream",
     "text": [
      "Lat: 72960\n",
      "Long: 73090\n",
      "ListPrice: 4774\n",
      "SaleYear: 9\n",
      "Bathroom: 10\n",
      "Bedroom: 8\n",
      "BuildDecade: 29\n",
      "MajorRenov: 113\n",
      "FinishSqFt: 6222\n",
      "LotSqFt: 10374\n",
      "MSA: 4\n",
      "City: 1289\n",
      "HighSchool: 654\n",
      "SalePrice: 5052\n"
     ]
    }
   ],
   "source": [
    "for item in train.columns:\n",
    "    print(item + \": \" + str(train[item].nunique()))"
   ]
  },
  {
   "cell_type": "markdown",
   "metadata": {},
   "source": [
    "Having variables with such a large number of categories will greatly complicate a decision tree, and pose problems to the interpretability and complexity of the model.\n",
    "\n",
    "Categorical values such as city and high school are 2 such categories, and since creating dummy variables or doing ordination would still severely complicate the model, I decided to remove them. There are also a number of missing values from BuildDecade, and we have no strong basis to say that the decade can be imputed based on the other values, thus I decided to remove it.\n",
    "\n",
    "MSA has 4 values, so it can be converted into dummy variables. \n",
    "\n",
    "Although year is technically a categorical variable, it can be treated as a number for better interpretability and use in the decision tree.\n",
    "\n",
    "Finally, MajorRenov could simply be converted into a 'yes' or 'no' variable (1/0)"
   ]
  },
  {
   "cell_type": "markdown",
   "metadata": {},
   "source": [
    "__(ii)__ Use your best judgement to modify the Zillow dataset to handle factor variables. In addition to `pandas` and `numpy`, it might be helpful to look at functions in `sklearn.preprocessing`."
   ]
  },
  {
   "cell_type": "code",
   "execution_count": 513,
   "metadata": {},
   "outputs": [],
   "source": [
    "train = train.drop(['City','HighSchool','BuildDecade'],axis=1)\n",
    "test = test.drop(['City','HighSchool','BuildDecade'],axis=1)\n",
    "\n",
    "trainDummies = pd.get_dummies(train['MSA'])\n",
    "train = pd.concat([train, trainDummies], axis=1)\n",
    "testDummies = pd.get_dummies(test['MSA'])\n",
    "test = pd.concat([test, testDummies], axis=1)\n",
    "\n",
    "train = train.drop(['MSA'],axis=1)\n",
    "test = test.drop(['MSA'],axis=1)\n",
    "\n",
    "MajorRenov = []\n",
    "for item in pd.to_numeric(train[\"MajorRenov\"], errors='coerce'):\n",
    "    if math.isnan(item):\n",
    "        MajorRenov.append(0)\n",
    "    else:\n",
    "        MajorRenov.append(1)\n",
    "train[\"MajorRenov\"] = MajorRenov\n",
    "\n",
    "MajorRenov = []\n",
    "for item in pd.to_numeric(test[\"MajorRenov\"], errors='coerce'):\n",
    "    if math.isnan(item):\n",
    "        MajorRenov.append(0)\n",
    "    else:\n",
    "        MajorRenov.append(1)\n",
    "test[\"MajorRenov\"] = MajorRenov\n",
    "\n",
    "train[\"SaleYear\"] = pd.to_numeric(train[\"SaleYear\"], errors='coerce')\n",
    "test[\"SaleYear\"] = pd.to_numeric(test[\"SaleYear\"], errors='coerce')"
   ]
  },
  {
   "cell_type": "markdown",
   "metadata": {},
   "source": [
    "__(iii)__ We will soon use a few methods to predict `SalePrice`. Throughout, we will evaluate the predictions in terms of the absolute relative error:\n",
    "\n",
    "<center>$\\frac{1}{n}\\sum_{i=1}^n \\frac{\\mid Y_i - \\hat{Y}_i\\mid}{Y_i}$</center>\n",
    "\n",
    "Explain why this is a more appropriate choice of accuracy, compared with squared error."
   ]
  },
  {
   "cell_type": "markdown",
   "metadata": {},
   "source": [
    "The absolute relative error measures the average percent deviation, which basically answers the question - on average, how far in percent is the price prediction from what it really is? If we used the squared error, we would be penalizing larger deviation (i.e. predictions with bigger deviation add more error to our sum), which we don't intend to penalize."
   ]
  },
  {
   "cell_type": "markdown",
   "metadata": {},
   "source": [
    "### Part (c) Build models using random forests\n",
    "\n",
    "Build random forest models to predict `SalePrice` from the other variables, using the appropriate method from `sklearn.ensemble`. As in Question 1, one parameter to vary is `max_features`, or the number of variables allowed in each split; this regulates the correlation between the trees in the random forest by introducing randomness. Two more relevant parameters are `n_estimators` and `min_samples_leaf`, or number of trees and minimum node size, which regulate variance and bias.\n",
    "\n",
    "Train several random forest models, each time using different values of the parameters. Evaluate each model using 5-fold cross-validation (`sklearn.model_selection.KFold` may be a useful resource to perform k-fold cross-validation). For the sake of time, you may keep `n_estimators` low and constant. First vary `max_features` and create a plot of the cross-validation error versus the value of this parameter. Next vary `min_samples_leaf` a create a similar plot with the values of this parameter. \n",
    "\n",
    "Comment on how cross-validation error relates to `max_features` and `min_samples_leaf`, and how do you imagine it would relate to `n_estimators`? Does this make sense to you?\n",
    "\n",
    "Now find a combination of values for `max_features` and `min_samples_leaf` that approximately minimizes the cross-validation error. \n",
    "\n",
    "_Note: Use mean absolute error (`mae`) rather than mean squared error (`mse`) as the criterion for growing the trees. But then when you evaluate different models, compute the relative absolute error, as described above._"
   ]
  },
  {
   "cell_type": "code",
   "execution_count": 532,
   "metadata": {},
   "outputs": [
    {
     "name": "stdout",
     "output_type": "stream",
     "text": [
      "Running: max_features = 1\n",
      "Running: max_features = 3\n",
      "Running: max_features = 5\n",
      "Running: max_features = 7\n"
     ]
    }
   ],
   "source": [
    "#Starter Code to fill in and complete\n",
    "from sklearn import model_selection\n",
    "kf = model_selection.KFold(n_splits=5)\n",
    "\n",
    "x = train.drop(['SalePrice'], axis=1)\n",
    "y = train['SalePrice']\n",
    "\n",
    "MSEfeatures = []\n",
    "MAEfeatures = []\n",
    "\n",
    "for m in [1,3,5,7]: # vary max_features\n",
    "    print(\"Running: max_features = \"+str(m))\n",
    "    dtr = ensemble.RandomForestRegressor(n_estimators = 3, \n",
    "                                         min_samples_leaf = 3,\n",
    "                                         max_features = m, \n",
    "                                         criterion = 'mae')\n",
    "    maeCount = 0\n",
    "    mseCount = 0\n",
    "    for train_index, test_index in kf.split(x):\n",
    "        \n",
    "        train_x = x.iloc(axis=0)[train_index,:]\n",
    "        train_y = y[train_index]\n",
    "        test_x = x.iloc(axis=0)[test_index,:]\n",
    "        test_y = y[test_index]\n",
    "        \n",
    "        regr = dtr.fit(train_x, train_y)       \n",
    "        pred_y = regr.predict(test_x)\n",
    "        \n",
    "        mae = sum(abs((test_y-pred_y)/test_y))\n",
    "        mse = sum((test_y-pred_y)**2)\n",
    "        maeCount += mae\n",
    "        mseCount += mse\n",
    "    \n",
    "    MAEfeatures.append(maeCount/len(x))\n",
    "    MSEfeatures.append(mseCount/len(x))"
   ]
  },
  {
   "cell_type": "code",
   "execution_count": 535,
   "metadata": {},
   "outputs": [
    {
     "name": "stdout",
     "output_type": "stream",
     "text": [
      "Running: min_samples_leaf = 1\n",
      "Running: min_samples_leaf = 3\n",
      "Running: min_samples_leaf = 5\n",
      "Running: min_samples_leaf = 7\n"
     ]
    }
   ],
   "source": [
    "kf = model_selection.KFold(n_splits=5)\n",
    "\n",
    "x = train.drop(['SalePrice'], axis=1)\n",
    "y = train['SalePrice']\n",
    "\n",
    "MSEsamples = []\n",
    "MAEsamples = []\n",
    "\n",
    "for m in [1,3,5,7]: # vary min_samples_leaf\n",
    "    print(\"Running: min_samples_leaf = \"+str(m))\n",
    "    dtr = ensemble.RandomForestRegressor(n_estimators = 3, \n",
    "                                         min_samples_leaf = m,\n",
    "                                         max_features = 7, \n",
    "                                         criterion = 'mae')\n",
    "    maeCount = 0\n",
    "    mseCount = 0\n",
    "    for train_index, test_index in kf.split(x):\n",
    "        \n",
    "        train_x = x.iloc(axis=0)[train_index,:]\n",
    "        train_y = y[train_index]\n",
    "        test_x = x.iloc(axis=0)[test_index,:]\n",
    "        test_y = y[test_index]\n",
    "        \n",
    "        regr = dtr.fit(train_x, train_y)       \n",
    "        pred_y = regr.predict(test_x)\n",
    "        \n",
    "        mae = sum(abs((test_y-pred_y)/test_y))\n",
    "        mse = sum((test_y-pred_y)**2)\n",
    "        maeCount += mae\n",
    "        mseCount += mse\n",
    "    \n",
    "    MAEsamples.append(maeCount/len(x))\n",
    "    MSEsamples.append(mseCount/len(x))"
   ]
  },
  {
   "cell_type": "code",
   "execution_count": 534,
   "metadata": {},
   "outputs": [
    {
     "data": {
      "text/plain": [
       "Text(0, 0.5, 'MSE')"
      ]
     },
     "execution_count": 534,
     "metadata": {},
     "output_type": "execute_result"
    },
    {
     "data": {
      "image/png": "[encoded data removed]",
      "text/plain": [
       "<Figure size 432x288 with 1 Axes>"
      ]
     },
     "metadata": {
      "needs_background": "light"
     },
     "output_type": "display_data"
    }
   ],
   "source": [
    "plt.scatter([1,3,5,7], MSEfeatures)\n",
    "plt.title('MSE vs. max_features, \\n min_samples_leaf = 3, n_estimators = 3')\n",
    "plt.xlabel('max_features')\n",
    "plt.ylabel('MSE')"
   ]
  },
  {
   "cell_type": "code",
   "execution_count": 536,
   "metadata": {},
   "outputs": [
    {
     "data": {
      "text/plain": [
       "Text(0, 0.5, 'MSE')"
      ]
     },
     "execution_count": 536,
     "metadata": {},
     "output_type": "execute_result"
    },
    {
     "data": {
      "image/png": "[encoded data removed]",
      "text/plain": [
       "<Figure size 432x288 with 1 Axes>"
      ]
     },
     "metadata": {
      "needs_background": "light"
     },
     "output_type": "display_data"
    }
   ],
   "source": [
    "plt.scatter([1,3,5,7], MSEsamples)\n",
    "plt.title('Relative Error vs. min_samples_leaf, \\n max_features = 7, n_estimators = 3')\n",
    "plt.xlabel('min_samples_leaf')\n",
    "plt.ylabel('MSE')"
   ]
  },
  {
   "cell_type": "markdown",
   "metadata": {},
   "source": [
    "In the first plot, we see that increasing max_features (the number of variables allowed in each split) leads to a decrease in MSE.\n",
    "\n",
    "Increasing max_features allows the predictions to become more accurate, since the model has more information with which to generate predictions. This decreases the bias and in turn decreases the MSE. Continuing to increase the number of predictors however will lead to a more complex model, which will increase variance and in turn increase the MSE.\n",
    "\n",
    "In the second plot, we see that increasing min_samples_leaf (how big each final leaf can be) produces no clear pattern in the MSE, although there is a considerable drop after a min_samples_leaf of 1.\n",
    "\n",
    "Increasing min_samples_leaf implicitly controls how deep the tree grows. A bigger min_samples_leaf will mean less leaves, and thus a shallower tree, whereas a smaller min_samples_leaf means more leaves and a deeper tree. With a deeper tree, predictions become more specific, which improves the prediction accuracy and decreases the bias of the model. However, continuing to increase the depth will increase variance in prediction, and increase the MSE."
   ]
  },
  {
   "cell_type": "markdown",
   "metadata": {},
   "source": [
    "### Part (d) Comparison to Least-Squares Regression\n",
    "\n",
    "Now build a least-squares linear model for the response variable as a function of the predictor variables using the training set. You may wish to use the `sklearn.linear_model.LinearRegression` function, described\n",
    "[here](https://scikit-learn.org/stable/modules/generated/sklearn.linear_model.LinearRegression.html).\n",
    "\n",
    "Experiment with different subsets of the predictor variables included in the linear model. \n",
    "\n",
    "Using the random forest model from Part (c) with the best combination of values for `max_features` and `min_samples_leaf` that you found, compare both the mean squared error and the relative absolute error on the test set from the random forest and linear models.\n",
    "\n",
    "Which model does a better job at prediction? Do you think the model with the higher MSE has higher variance or higher bias, or both?"
   ]
  },
  {
   "cell_type": "code",
   "execution_count": 530,
   "metadata": {
    "scrolled": false
   },
   "outputs": [],
   "source": [
    "from sklearn.linear_model import LinearRegression\n",
    "kf = model_selection.KFold(n_splits=5)\n",
    "\n",
    "mse1 = 0\n",
    "mse2 = 0\n",
    "mse3 = 0\n",
    "mse4 = 0\n",
    "\n",
    "mae1 = 0\n",
    "mae2 = 0\n",
    "mae3 = 0\n",
    "mae4 = 0\n",
    "\n",
    "x = train.drop(['SalePrice'], axis=1)\n",
    "y = train['SalePrice']\n",
    "\n",
    "for train_index, test_index in kf.split(x):\n",
    "    train_x = x.iloc(axis=0)[train_index,:]\n",
    "    train_y = y[train_index]\n",
    "    test_x = x.iloc(axis=0)[test_index,:]\n",
    "    test_y = y[test_index]\n",
    "    \n",
    "    reg1 = LinearRegression().fit(train_x[['FinishSqFt','Bedroom','SaleYear']], train_y)\n",
    "    reg2 = LinearRegression().fit(train_x[['FinishSqFt','Bedroom','SaleYear','MajorRenov']], train_y)\n",
    "    reg3 = LinearRegression().fit(train_x[['FinishSqFt','Bedroom','Bathroom','MajorRenov','SaleYear']], train_y)\n",
    "    reg4 = LinearRegression().fit(train_x, train_y)\n",
    "    \n",
    "    pred1 = reg1.predict(test_x[['FinishSqFt','Bedroom','SaleYear']])\n",
    "    pred2 = reg2.predict(test_x[['FinishSqFt','Bedroom','SaleYear','MajorRenov']])\n",
    "    pred3 = reg3.predict(test_x[['FinishSqFt','Bedroom','Bathroom','MajorRenov','SaleYear']])\n",
    "    pred4 = reg4.predict(test_x)\n",
    "\n",
    "    mse1 += sum((test_y-pred1)**2)\n",
    "    mse2 += sum((test_y-pred2)**2)\n",
    "    mse3 += sum((test_y-pred3)**2)\n",
    "    mse4 += sum((test_y-pred4)**2)\n",
    "\n",
    "    mae1 += sum(abs((test_y-pred1)/test_y))\n",
    "    mae2 += sum(abs((test_y-pred2)/test_y))\n",
    "    mae3 += sum(abs((test_y-pred3)/test_y))\n",
    "    mae4 += sum(abs((test_y-pred4)/test_y))\n",
    "\n",
    "mse1 /= len(x)\n",
    "mse2 /= len(x)\n",
    "mse3 /= len(x)\n",
    "mse4 /= len(x)\n",
    "\n",
    "mae1 /= len(x)\n",
    "mae2 /= len(x)\n",
    "mae3 /= len(x)\n",
    "mae4 /= len(x)"
   ]
  },
  {
   "cell_type": "code",
   "execution_count": 548,
   "metadata": {},
   "outputs": [
    {
     "name": "stdout",
     "output_type": "stream",
     "text": [
      "Minimum Linear MSE: 204544306\n",
      "Minimum Random Forest MSE (Changing Samples): 229985464\n",
      "Minimum Random Forest MSE (Changing Features): 228050435\n",
      "Minimum Linear MAE: 0.02538366515103238\n",
      "Minimum Random Forest MAE (Changing Samples): 0.026964513458504\n",
      "Minimum Random Forest MAE (Changing Features): 0.026987907728877457\n"
     ]
    }
   ],
   "source": [
    "print(\"Minimum Linear MSE: \" + str(round(min([mse1, mse2, mse3, mse4]))))\n",
    "print(\"Minimum Random Forest MSE (Changing Samples): \" + str(round(min(MSEsamples))))\n",
    "print(\"Minimum Random Forest MSE (Changing Features): \" + str(round(min(MSEfeatures))))\n",
    "\n",
    "print(\"Minimum Linear MAE: \" + str(min([mae1, mae2, mae3, mae4])))\n",
    "print(\"Minimum Random Forest MAE (Changing Samples): \" + str(min(MAEsamples)))\n",
    "print(\"Minimum Random Forest MAE (Changing Features): \" + str(min(MAEfeatures)))"
   ]
  },
  {
   "cell_type": "markdown",
   "metadata": {},
   "source": [
    "5-fold cross validation was performed to generate the linear models, and it was the complete model which generated the least error. Comparing the complete model to the random forest model, the MSE and MAE are lower in the linear model compared to random forest.\n",
    "\n",
    "We restricted the model to a relatively small number of predictors per leaf (low max_features), although we allowed it to grow quite deep (low min_samples_leaf). Using only a few predictors means that we obtain a high bias, while using a deep tree means we obtain high variance. Therefore, we suspect that the MSE of the random forest resulted from both bias and variance."
   ]
  },
  {
   "cell_type": "markdown",
   "metadata": {},
   "source": [
    "### Part (e) Predicting SalePrice\n",
    "\n",
    "Read in the file \"zillow_part_e.csv\" which has 7000 houses with all the same variables as the training and testing set, except that the SalePrice variable is missing. \n",
    "\n",
    "Construct the best model you can on the training data. You can use random forests, or you may try to use gradient tree boosting, which is also available in sklearn.ensemble.  \n",
    "\n",
    "Using your best model, predict the sale prices for these 7000 houses. Students will be assigned extra credit according to which decile they are in for the predictive accuracy (relative absolute error). (The top 10% will receive 10 points extra credit, the next 10% 9 points, and so on.) \n",
    "\n",
    "Save your predictions in a file called \"zillow_predictions.csv\" and submit this file with your homework. Your csv file should only contain a single column of predictions, without a header, where the $i$-th row corresponds to the predicted sale price for the $i$-th row of the dataset read in from \"zillow_part_e.csv\", excluding the header.\n"
   ]
  },
  {
   "cell_type": "code",
   "execution_count": 538,
   "metadata": {},
   "outputs": [],
   "source": [
    "newdata = pd.read_csv(\"zillow_part_e.csv\")\n",
    "newdata = newdata[['Lat', 'Long', 'ListPrice', 'SaleYear', 'Bathroom', 'Bedroom', 'BuildDecade', 'MajorRenov', 'FinishSqFt', 'LotSqFt', 'MSA', 'City', 'HighSchool']]"
   ]
  },
  {
   "cell_type": "code",
   "execution_count": 539,
   "metadata": {},
   "outputs": [],
   "source": [
    "newdata = newdata.drop(['City','HighSchool','BuildDecade'],axis=1)\n",
    "\n",
    "newDummies = pd.get_dummies(newdata['MSA'])\n",
    "newdata = pd.concat([newdata, newDummies], axis=1)\n",
    "\n",
    "newdata = newdata.drop(['MSA'],axis=1)\n",
    "\n",
    "MajorRenov = []\n",
    "for item in pd.to_numeric(newdata[\"MajorRenov\"], errors='coerce'):\n",
    "    if math.isnan(item):\n",
    "        MajorRenov.append(0)\n",
    "    else:\n",
    "        MajorRenov.append(1)\n",
    "newdata[\"MajorRenov\"] = MajorRenov\n",
    "\n",
    "newdata[\"SaleYear\"] = pd.to_numeric(newdata[\"SaleYear\"], errors='coerce')"
   ]
  },
  {
   "cell_type": "code",
   "execution_count": 540,
   "metadata": {},
   "outputs": [],
   "source": [
    "dtr = ensemble.RandomForestRegressor(n_estimators = 3, \n",
    "                                         min_samples_leaf = 3,\n",
    "                                         max_features = 7,\n",
    "                                         criterion = 'mae')\n",
    "\n",
    "regr = dtr.fit(train.drop(['SalePrice'],axis=1),train['SalePrice'])       \n",
    "pred_y = regr.predict(newdata)"
   ]
  },
  {
   "cell_type": "code",
   "execution_count": 549,
   "metadata": {},
   "outputs": [],
   "source": [
    "import csv\n",
    "csvData = {'pred_y': pred_y}\n",
    "csvData = pd.DataFrame(csvData)\n",
    "csvData.to_csv('/Users/lorenzoflores/Desktop/Yale_Academic/S&DS 355/HW3/zillow_predictions.csv')"
   ]
  }
 ],
 "metadata": {
  "kernelspec": {
   "display_name": "Python 3",
   "language": "python",
   "name": "python3"
  },
  "language_info": {
   "codemirror_mode": {
    "name": "ipython",
    "version": 3
   },
   "file_extension": ".py",
   "mimetype": "text/x-python",
   "name": "python",
   "nbconvert_exporter": "python",
   "pygments_lexer": "ipython3",
   "version": "3.7.1"
  }
 },
 "nbformat": 4,
 "nbformat_minor": 4
}
